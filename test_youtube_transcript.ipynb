{
 "cells": [
  {
   "cell_type": "markdown",
   "metadata": {},
   "source": [
    "# Test YouTube Transcript API\n",
    "Testing transcript fetching for video MpEc0VAWnqA"
   ]
  },
  {
   "cell_type": "code",
   "execution_count": null,
   "metadata": {},
   "outputs": [],
   "source": [
    "import json\n",
    "from youtube_transcript_api import YouTubeTranscriptApi"
   ]
  },
  {
   "cell_type": "code",
   "execution_count": null,
   "metadata": {},
   "outputs": [],
   "source": [
    "# Try to get the transcript\n",
    "try:\n",
    "    srt = YouTubeTranscriptApi.get_transcript(\"MpEc0VAWnqA\", languages=['de'])\n",
    "    print(f\"Successfully fetched {len(srt)} entries\")\n",
    "    print(f\"First 5 entries: {srt[:5]}\")\n",
    "except Exception as e:\n",
    "    print(f\"Error: {e}\")"
   ]
  },
  {
   "cell_type": "code",
   "execution_count": null,
   "metadata": {},
   "outputs": [],
   "source": [
    "# Define the conversion functions\n",
    "def convert_json_to_srt(json_data):\n",
    "    counter = 1\n",
    "    for subtitle in json_data:\n",
    "        start_time = float(subtitle['start'])\n",
    "        end_time = start_time + float(subtitle['duration'])\n",
    "        print(f\"{counter}\")\n",
    "        print(f\"{format_time(start_time)} --> {format_time(end_time)}\")\n",
    "        print(f\"{subtitle['text']}\\n\")\n",
    "        counter += 1\n",
    "\n",
    "def format_time(seconds):\n",
    "    hours, remainder = divmod(seconds, 3600)\n",
    "    minutes, seconds = divmod(remainder, 60)\n",
    "    milliseconds = int((seconds - int(seconds)) * 1000)\n",
    "    return f\"{int(hours):02d}:{int(minutes):02d}:{int(seconds):02d},{milliseconds:03d}\""
   ]
  },
  {
   "cell_type": "code",
   "execution_count": null,
   "metadata": {},
   "outputs": [],
   "source": [
    "# If transcript was fetched, convert first 10 entries to SRT format\n",
    "if 'srt' in locals():\n",
    "    print(\"Converting first 10 entries to SRT format:\\n\")\n",
    "    convert_json_to_srt(srt[:10])\n",
    "else:\n",
    "    print(\"No transcript data available\")"
   ]
  },
  {
   "cell_type": "code",
   "execution_count": null,
   "metadata": {},
   "outputs": [],
   "source": [
    "# Test with a different approach - list all available transcripts first\n",
    "try:\n",
    "    transcript_list = YouTubeTranscriptApi.list_transcripts(\"MpEc0VAWnqA\")\n",
    "    print(\"Available transcripts:\")\n",
    "    for transcript in transcript_list:\n",
    "        print(f\"- {transcript.language} (code: {transcript.language_code})\")\n",
    "        print(f\"  Generated: {transcript.is_generated}, Translatable: {transcript.is_translatable}\")\n",
    "except Exception as e:\n",
    "    print(f\"Error listing transcripts: {e}\")"
   ]
  },
  {
   "cell_type": "code",
   "execution_count": null,
   "metadata": {},
   "outputs": [],
   "source": [
    "# Try manual fetch\n",
    "try:\n",
    "    transcript_list = YouTubeTranscriptApi.list_transcripts(\"MpEc0VAWnqA\")\n",
    "    for transcript in transcript_list:\n",
    "        if transcript.language_code == 'de':\n",
    "            print(f\"Attempting to fetch {transcript.language} transcript...\")\n",
    "            transcript_data = transcript.fetch()\n",
    "            print(f\"Success! Got {len(transcript_data)} entries\")\n",
    "            print(\"\\nFirst 5 entries in SRT format:\\n\")\n",
    "            convert_json_to_srt(transcript_data[:5])\n",
    "            break\n",
    "except Exception as e:\n",
    "    print(f\"Error: {e}\")"
   ]
  }
 ],
 "metadata": {
  "kernelspec": {
   "display_name": "Python 3",
   "language": "python",
   "name": "python3"
  },
  "language_info": {
   "codemirror_mode": {
    "name": "ipython",
    "version": 3
   },
   "file_extension": ".py",
   "mimetype": "text/x-python",
   "name": "python",
   "nbconvert_exporter": "python",
   "pygments_lexer": "ipython3",
   "version": "3.9.0"
  }
 },
 "nbformat": 4,
 "nbformat_minor": 4
}